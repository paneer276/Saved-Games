{
 "cells": [
  {
   "cell_type": "code",
   "execution_count": 2,
   "id": "5704146a",
   "metadata": {},
   "outputs": [],
   "source": [
    "# Assignment 3: Write a program to recognize a document is positive or negative based on polarity words using suitable \n",
    "# classification method."
   ]
  },
  {
   "cell_type": "code",
   "execution_count": 2,
   "id": "7abe589b",
   "metadata": {},
   "outputs": [
    {
     "name": "stdout",
     "output_type": "stream",
     "text": [
      "Document was rated as  2.6 % Negative\n",
      "Document was rated as  70.8 % Neutral\n",
      "Document was rated as  26.6 % Positive\n",
      "Document Overall Rated As Positive\n"
     ]
    }
   ],
   "source": [
    "# import SentimentIntensityAnalyzer class\n",
    "# from vaderSentiment.vaderSentiment module.\n",
    "from vaderSentiment.vaderSentiment import SentimentIntensityAnalyzer\n",
    " \n",
    "# function to print sentiments\n",
    "# of the sentence.\n",
    "def sentiment_scores(data):\n",
    " \n",
    "    # Create a SentimentIntensityAnalyzer object.\n",
    "    sid_obj = SentimentIntensityAnalyzer()\n",
    " \n",
    "    # polarity_scores method of SentimentIntensityAnalyzer\n",
    "    # object gives a sentiment dictionary.\n",
    "    # which contains pos, neg, neu, and compound scores.\n",
    "    sentiment_dict = sid_obj.polarity_scores(data)\n",
    "     \n",
    "    #print(\"Overall sentiment dictionary is : \", sentiment_dict)\n",
    "    print(\"Document was rated as \", sentiment_dict['neg']*100, \"% Negative\")\n",
    "    print(\"Document was rated as \", sentiment_dict['neu']*100, \"% Neutral\")\n",
    "    print(\"Document was rated as \", sentiment_dict['pos']*100, \"% Positive\")\n",
    " \n",
    "    print(\"Document Overall Rated As\", end = \" \")\n",
    " \n",
    "    # decide sentiment as positive, negative and neutral\n",
    "    if sentiment_dict['compound'] >= 0.05 :\n",
    "        print(\"Positive\")\n",
    " \n",
    "    elif sentiment_dict['compound'] <= - 0.05 :\n",
    "        print(\"Negative\")\n",
    " \n",
    "    else :\n",
    "        print(\"Neutral\")\n",
    " \n",
    " \n",
    "   \n",
    "# Driver code\n",
    "if __name__ == \"__main__\" :\n",
    " \n",
    "    #open text file in read mode\n",
    "    text_file = open(\"data.txt\", \"r\")\n",
    "\n",
    "    #read whole file to a string\n",
    "    data = text_file.read()\n",
    "\n",
    "    #close file\n",
    "    text_file.close()\n",
    "\n",
    "    sentiment_scores(data)"
   ]
  },
  {
   "cell_type": "code",
   "execution_count": null,
   "id": "57b45145",
   "metadata": {},
   "outputs": [],
   "source": []
  }
 ],
 "metadata": {
  "kernelspec": {
   "display_name": "Python 3 (ipykernel)",
   "language": "python",
   "name": "python3"
  },
  "language_info": {
   "codemirror_mode": {
    "name": "ipython",
    "version": 3
   },
   "file_extension": ".py",
   "mimetype": "text/x-python",
   "name": "python",
   "nbconvert_exporter": "python",
   "pygments_lexer": "ipython3",
   "version": "3.11.0"
  }
 },
 "nbformat": 4,
 "nbformat_minor": 5
}
