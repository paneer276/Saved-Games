{
 "cells": [
  {
   "cell_type": "code",
   "execution_count": null,
   "metadata": {},
   "outputs": [],
   "source": [
    "# Assignment 5: We have given a collection of 8 points.\n",
    "# P1=[0.1,0.6]\n",
    "# P2=[0.15,0.71]\n",
    "# P3=[0.08,0.9]\n",
    "# P4=[0.16, 0.85]\n",
    "# P5=[0.2,0.3]\n",
    "# P6=[0.25,0.5]\n",
    "# P7=[0.24,0.1]\n",
    "# P8=[0.3,0.2]\n",
    "# Perform the k-mean clustering with initial centroids as m1=P1 =Cluster#1=C1 and\n",
    "# m2=P8=cluster#2=C2.\n",
    "# Answer the following\n",
    "# 1] Which cluster does P6 belong to? \n",
    "# 2] What is the population of cluster around m2?\n",
    "# 3] What is updated value of m1 and m2?"
   ]
  },
  {
   "cell_type": "code",
   "execution_count": 20,
   "metadata": {
    "id": "EB1SGse_hVlW"
   },
   "outputs": [],
   "source": [
    "import numpy as np\n",
    "import pandas as pd"
   ]
  },
  {
   "cell_type": "code",
   "execution_count": 21,
   "metadata": {
    "colab": {
     "base_uri": "https://localhost:8080/"
    },
    "id": "rupZXXZehaTJ",
    "outputId": "df20f244-a5e0-4dae-a2f4-7f6ff280d245"
   },
   "outputs": [
    {
     "name": "stdout",
     "output_type": "stream",
     "text": [
      "[[0.1  0.6 ]\n",
      " [0.15 0.71]\n",
      " [0.08 0.9 ]\n",
      " [0.16 0.85]\n",
      " [0.2  0.3 ]\n",
      " [0.25 0.5 ]\n",
      " [0.24 0.1 ]\n",
      " [0.3  0.2 ]]\n"
     ]
    }
   ],
   "source": [
    "df = pd.DataFrame({'X': [0.1, 0.15, 0.08, 0.16, 0.2, 0.25, 0.24, 0.3],\n",
    "'y': [0.6, 0.71, 0.9, 0.85, 0.3, 0.5, 0.1, 0.2]})\n",
    "f1 = df['X'].values\n",
    "f2 = df['y'].values\n",
    "X = np.array(list(zip(f1, f2)))\n",
    "print(X)"
   ]
  },
  {
   "cell_type": "code",
   "execution_count": 22,
   "metadata": {
    "id": "A_8MtAuLiVQI"
   },
   "outputs": [
    {
     "name": "stdout",
     "output_type": "stream",
     "text": [
      "[[0.1 0.6]\n",
      " [0.3 0.2]]\n"
     ]
    }
   ],
   "source": [
    "C_x = np.array([0.1, 0.3])\n",
    "C_y = np.array([0.6, 0.2])\n",
    "\n",
    "centroids = np.array(list(zip(C_x, C_y)))\n",
    "print(centroids)"
   ]
  },
  {
   "cell_type": "code",
   "execution_count": 23,
   "metadata": {
    "colab": {
     "base_uri": "https://localhost:8080/"
    },
    "id": "x2n8l9_Fiurj",
    "outputId": "3500eecc-43ff-438e-c8e0-15c4d26fae82"
   },
   "outputs": [
    {
     "name": "stdout",
     "output_type": "stream",
     "text": [
      "[1 1 1 1 0 0 0 0]\n"
     ]
    }
   ],
   "source": [
    "from sklearn.cluster import KMeans\n",
    "model = KMeans(n_clusters=2, random_state=0)\n",
    "model.fit(X)\n",
    "labels = model.labels_\n",
    "print(labels)"
   ]
  },
  {
   "cell_type": "code",
   "execution_count": 24,
   "metadata": {
    "id": "bzudwWusjmCV"
   },
   "outputs": [],
   "source": [
    "count = 0\n",
    "for i in range(len(labels)):\n",
    "  if(labels[i] == 1):\n",
    "    count = count+1"
   ]
  },
  {
   "cell_type": "code",
   "execution_count": 26,
   "metadata": {
    "colab": {
     "base_uri": "https://localhost:8080/"
    },
    "id": "kp_ov1JhlPjo",
    "outputId": "6325d46f-3d91-47ca-a9c1-96e8d910818b"
   },
   "outputs": [
    {
     "name": "stdout",
     "output_type": "stream",
     "text": [
      "Population around M2: 3\n",
      "Previous value of m1 and m2 is:\n",
      "M1= [0.1 0.6]\n",
      "M2= [0.3 0.2]\n",
      "updated value of m1 and m2 is:\n",
      "M1= [0.2475 0.275 ]\n",
      "M2= [0.1225 0.765 ]\n"
     ]
    }
   ],
   "source": [
    "print('Population around M2:', count-1)\n",
    "new_centroids = model.cluster_centers_\n",
    "\n",
    "print('Previous value of m1 and m2 is:')\n",
    "print('M1=', centroids[0])\n",
    "print('M2=', centroids[1])\n",
    "\n",
    "print('updated value of m1 and m2 is:')\n",
    "print('M1=', new_centroids[0])\n",
    "print('M2=', new_centroids[1])"
   ]
  },
  {
   "cell_type": "code",
   "execution_count": null,
   "metadata": {},
   "outputs": [],
   "source": []
  }
 ],
 "metadata": {
  "colab": {
   "provenance": []
  },
  "kernelspec": {
   "display_name": "Python 3 (ipykernel)",
   "language": "python",
   "name": "python3"
  },
  "language_info": {
   "codemirror_mode": {
    "name": "ipython",
    "version": 3
   },
   "file_extension": ".py",
   "mimetype": "text/x-python",
   "name": "python",
   "nbconvert_exporter": "python",
   "pygments_lexer": "ipython3",
   "version": "3.11.0"
  }
 },
 "nbformat": 4,
 "nbformat_minor": 1
}
