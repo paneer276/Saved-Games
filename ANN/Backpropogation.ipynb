{
 "cells": [
  {
   "cell_type": "code",
   "execution_count": 1,
   "id": "cd48a7df",
   "metadata": {
    "id": "6623bd36"
   },
   "outputs": [],
   "source": [
    "# Assignment 2: Write a program to show back propagation network for XOR function with binary input\n",
    "# and output.\n"
   ]
  },
  {
   "cell_type": "code",
   "execution_count": 1,
   "id": "8e5bda32",
   "metadata": {
    "executionInfo": {
     "elapsed": 7,
     "status": "ok",
     "timestamp": 1678435050589,
     "user": {
      "displayName": "Adwait Deshpande",
      "userId": "01421131392947329220"
     },
     "user_tz": -330
    },
    "id": "8e5bda32"
   },
   "outputs": [],
   "source": [
    "import numpy as np\n",
    "\n",
    "\n",
    "def sigmoid(x):\n",
    "    return 1 / (1 + np.exp(-x))\n",
    "\n",
    "def sigmoid_derivative(x):\n",
    "    return sigmoid(x) * (1 - sigmoid(x))\n",
    "\n",
    "\n",
    "def xor(inputs):\n",
    "    return np.array([int(inputs[0] != inputs[1])])"
   ]
  },
  {
   "cell_type": "code",
   "execution_count": 2,
   "id": "f1b7e33c",
   "metadata": {
    "executionInfo": {
     "elapsed": 6,
     "status": "ok",
     "timestamp": 1678435050589,
     "user": {
      "displayName": "Adwait Deshpande",
      "userId": "01421131392947329220"
     },
     "user_tz": -330
    },
    "id": "f1b7e33c"
   },
   "outputs": [],
   "source": [
    "input_data = np.array([[0, 0], [0, 1], [1, 0], [1, 1],[0, 0], [0, 1], [1, 0], [1, 1]])\n",
    "target_data = np.array([[0], [1], [1], [0], [0], [1], [1], [0]])"
   ]
  },
  {
   "cell_type": "code",
   "execution_count": 3,
   "id": "40b78c99",
   "metadata": {
    "executionInfo": {
     "elapsed": 6,
     "status": "ok",
     "timestamp": 1678435050589,
     "user": {
      "displayName": "Adwait Deshpande",
      "userId": "01421131392947329220"
     },
     "user_tz": -330
    },
    "id": "40b78c99"
   },
   "outputs": [],
   "source": [
    "input_size = 2\n",
    "hidden_size = 8\n",
    "output_size = 1"
   ]
  },
  {
   "cell_type": "code",
   "execution_count": 4,
   "id": "a8ac47f4",
   "metadata": {
    "executionInfo": {
     "elapsed": 6,
     "status": "ok",
     "timestamp": 1678435050590,
     "user": {
      "displayName": "Adwait Deshpande",
      "userId": "01421131392947329220"
     },
     "user_tz": -330
    },
    "id": "a8ac47f4"
   },
   "outputs": [],
   "source": [
    "\n",
    "hidden_weights = np.random.uniform(size=(input_size, hidden_size))\n",
    "output_weights = np.random.uniform(size=(hidden_size, output_size))"
   ]
  },
  {
   "cell_type": "code",
   "execution_count": 5,
   "id": "cb177b6f",
   "metadata": {
    "executionInfo": {
     "elapsed": 6,
     "status": "ok",
     "timestamp": 1678435050590,
     "user": {
      "displayName": "Adwait Deshpande",
      "userId": "01421131392947329220"
     },
     "user_tz": -330
    },
    "id": "cb177b6f"
   },
   "outputs": [],
   "source": [
    "learning_rate = 0.1\n",
    "epochs = 100000"
   ]
  },
  {
   "cell_type": "code",
   "execution_count": 6,
   "id": "11de6520",
   "metadata": {
    "executionInfo": {
     "elapsed": 14077,
     "status": "ok",
     "timestamp": 1678435064661,
     "user": {
      "displayName": "Adwait Deshpande",
      "userId": "01421131392947329220"
     },
     "user_tz": -330
    },
    "id": "11de6520"
   },
   "outputs": [],
   "source": [
    "for epoch in range(epochs):\n",
    "    hidden_layer = sigmoid(np.dot(input_data, hidden_weights))\n",
    "    output_layer = sigmoid(np.dot(hidden_layer, output_weights))\n",
    "   \n",
    "    output_error = target_data - output_layer\n",
    "    output_delta = output_error * sigmoid_derivative(output_layer)\n",
    "   \n",
    "    hidden_error = output_delta.dot(output_weights.T)\n",
    "    hidden_delta = hidden_error * sigmoid_derivative(hidden_layer)\n",
    "   \n",
    "    output_weights += hidden_layer.T.dot(output_delta) * learning_rate\n",
    "    hidden_weights += input_data.T.dot(hidden_delta) * learning_rate"
   ]
  },
  {
   "cell_type": "code",
   "execution_count": 9,
   "id": "eb143fd0",
   "metadata": {
    "colab": {
     "base_uri": "https://localhost:8080/"
    },
    "executionInfo": {
     "elapsed": 13,
     "status": "ok",
     "timestamp": 1678435064661,
     "user": {
      "displayName": "Adwait Deshpande",
      "userId": "01421131392947329220"
     },
     "user_tz": -330
    },
    "id": "eb143fd0",
    "outputId": "ff600af6-f316-43bd-fd07-5b8093cf02bf"
   },
   "outputs": [
    {
     "name": "stdout",
     "output_type": "stream",
     "text": [
      "Input: [1 0] Output: [1.] Target: [1]\n",
      "Input: [0 1] Output: [1.] Target: [1]\n",
      "Input: [1 1] Output: [0.] Target: [0]\n",
      "Input: [0 0] Output: [0.] Target: [0]\n"
     ]
    }
   ],
   "source": [
    "test_input = np.array([[1, 0], [0, 1], [1, 1], [0, 0]])\n",
    "for i in range(len(test_input)):\n",
    "    prediction = sigmoid(np.dot(sigmoid(np.dot(test_input[i], hidden_weights)), output_weights))\n",
    "    print(f\"Input: {test_input[i]} Output: {prediction.round()} Target: {xor(test_input[i])}\")"
   ]
  }
 ],
 "metadata": {
  "colab": {
   "provenance": []
  },
  "kernelspec": {
   "display_name": "Python 3 (ipykernel)",
   "language": "python",
   "name": "python3"
  },
  "language_info": {
   "codemirror_mode": {
    "name": "ipython",
    "version": 3
   },
   "file_extension": ".py",
   "mimetype": "text/x-python",
   "name": "python",
   "nbconvert_exporter": "python",
   "pygments_lexer": "ipython3",
   "version": "3.11.0"
  }
 },
 "nbformat": 4,
 "nbformat_minor": 5
}
