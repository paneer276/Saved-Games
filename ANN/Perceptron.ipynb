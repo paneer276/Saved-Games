{
 "cells": [
  {
   "cell_type": "code",
   "execution_count": null,
   "metadata": {},
   "outputs": [],
   "source": [
    "# Assignment 5: Write a program to demonstrate the perceptron learning law with its decision region\n",
    "# using python. Give the output in graphical form"
   ]
  },
  {
   "cell_type": "code",
   "execution_count": 2,
   "metadata": {
    "colab": {
     "base_uri": "https://localhost:8080/",
     "height": 295
    },
    "executionInfo": {
     "elapsed": 659,
     "status": "ok",
     "timestamp": 1678453422046,
     "user": {
      "displayName": "Adwait Deshpande",
      "userId": "01421131392947329220"
     },
     "user_tz": -330
    },
    "id": "WtImeeOMnlDa",
    "outputId": "9b5ed0be-23f4-4cb8-f7cc-9a5e4a118293"
   },
   "outputs": [
    {
     "data": {
      "image/png": "[encoded data removed]",
      "text/plain": [
       "<Figure size 640x480 with 1 Axes>"
      ]
     },
     "metadata": {},
     "output_type": "display_data"
    }
   ],
   "source": [
    "import numpy as np\n",
    "import matplotlib.pyplot as plt\n",
    "\n",
    "class Perceptron:\n",
    "    def __init__(self, num_inputs):\n",
    "        self.weights = np.zeros(num_inputs)\n",
    "        self.bias = 0\n",
    "\n",
    "    def predict(self, input):\n",
    "        activation = np.dot(self.weights, input) + self.bias\n",
    "        return 1 if activation >= 0 else -1\n",
    "\n",
    "    def train(self, inputs, labels, learning_rate=0.1, num_epochs=10):\n",
    "        for epoch in range(num_epochs):\n",
    "            for input, label in zip(inputs, labels):\n",
    "                prediction = self.predict(input)\n",
    "                if prediction != label:\n",
    "                    self.weights += learning_rate * label * input\n",
    "                    self.bias += learning_rate * label\n",
    "\n",
    "    def plot_decision_region(self, inputs, labels):\n",
    "        x_min, x_max = inputs[:, 0].min() - 0.5, inputs[:, 0].max() + 0.5\n",
    "        y_min, y_max = inputs[:, 1].min() - 0.5, inputs[:, 1].max() + 0.5\n",
    "        xx, yy = np.meshgrid(np.arange(x_min, x_max, 0.02),\n",
    "                             np.arange(y_min, y_max, 0.02))\n",
    "        Z = np.array([self.predict([x1, x2]) for x1, x2 in np.c_[xx.ravel(), yy.ravel()]])\n",
    "        Z = Z.reshape(xx.shape)\n",
    "        plt.contourf(xx, yy, Z, cmap=plt.cm.RdBu, alpha=0.6)\n",
    "        plt.scatter(inputs[:, 0], inputs[:, 1], c=labels, cmap=plt.cm.RdBu, edgecolors='black')\n",
    "\n",
    "inputs = np.array([[1, 2], [2, 1], [-1, -2], [-2, -1]])\n",
    "labels = np.array([1, 1, -1, -1])\n",
    "\n",
    "perceptron = Perceptron(2)\n",
    "\n",
    "perceptron.train(inputs, labels)\n",
    "\n",
    "perceptron.plot_decision_region(inputs, labels)\n",
    "plt.title(\"Perceptron Decision Region\")\n",
    "plt.xlabel(\"Input 1\")\n",
    "plt.ylabel(\"Input 2\")\n",
    "plt.show()\n"
   ]
  }
 ],
 "metadata": {
  "colab": {
   "authorship_tag": "ABX9TyPFrpXg0IL2f6H8gy5lCKM6",
   "provenance": []
  },
  "kernelspec": {
   "display_name": "Python 3 (ipykernel)",
   "language": "python",
   "name": "python3"
  },
  "language_info": {
   "codemirror_mode": {
    "name": "ipython",
    "version": 3
   },
   "file_extension": ".py",
   "mimetype": "text/x-python",
   "name": "python",
   "nbconvert_exporter": "python",
   "pygments_lexer": "ipython3",
   "version": "3.11.0"
  }
 },
 "nbformat": 4,
 "nbformat_minor": 1
}
