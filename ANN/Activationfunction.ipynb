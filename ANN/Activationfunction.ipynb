{
 "cells": [
  {
   "cell_type": "code",
   "execution_count": null,
   "id": "617409a8",
   "metadata": {},
   "outputs": [],
   "source": [
    "# Assignment 1: Write a program to scheme a few activation functions that are used in neural networks"
   ]
  },
  {
   "cell_type": "code",
   "execution_count": 4,
   "id": "2c100f29",
   "metadata": {
    "id": "2c100f29"
   },
   "outputs": [],
   "source": [
    "import matplotlib.pyplot as plt\n",
    "import numpy as np"
   ]
  },
  {
   "cell_type": "code",
   "execution_count": 5,
   "id": "1a105e4b",
   "metadata": {
    "id": "1a105e4b"
   },
   "outputs": [],
   "source": [
    "class AF():\n",
    "    def linear(x):\n",
    "     return x\n",
    "\n",
    "    def sigmoid(x):\n",
    "     return 1/(1+np.exp(-x))\n",
    "    \n",
    "    def tanh(x):\n",
    "     return np.tanh(x)\n",
    "    \n",
    "    def RELU(x):\n",
    "        x1=[]\n",
    "        for i in x:\n",
    "            if i<0:\n",
    "                x1.append(0)\n",
    "            else:\n",
    "                x1.append(i)\n",
    "        return x1\n",
    "\n",
    "    def softmax(x):\n",
    "     return np.exp(x) / np.sum(np.exp(x), axis=0)\n",
    "    "
   ]
  },
  {
   "cell_type": "code",
   "execution_count": null,
   "id": "982e4732",
   "metadata": {
    "id": "982e4732",
    "outputId": "25a70ea9-fb63-48c0-e93b-7afc72f26820"
   },
   "outputs": [],
   "source": [
    "while True:\n",
    "    n = int(input(\"Enter\\n 0. to Cancel\\n 1. Linear\\n 2. Sigmoid\\n 3.Tanh\\n 4.ReLU\\n 5.Softmax\\n \"))\n",
    "    if n==0:\n",
    "        break\n",
    "    if n==1:\n",
    "        x = np.linspace(-10, 10)\n",
    "        plt.plot(x, AF.linear(x))\n",
    "        plt.title('Activation Function :Linear')\n",
    "        plt.show()\n",
    "    elif n==2:\n",
    "        x = np.linspace(-10, 10)\n",
    "        plt.plot(x, AF.sigmoid(x))\n",
    "        plt.title('Activation Function :Sigmoid')\n",
    "        plt.show()\n",
    "    elif n==3:\n",
    "        x = np.linspace(-10, 10)\n",
    "        plt.plot(x, AF.tanh(x))\n",
    "        plt.title('Activation Function :Tanh')\n",
    "        plt.show()\n",
    "    elif n==4:\n",
    "        x = np.linspace(-10, 10)\n",
    "        plt.plot(x, AF.RELU(x))\n",
    "        plt.title('Activation Function :ReLU')\n",
    "        plt.show()\n",
    "    elif n==5:\n",
    "        x = np.linspace(-10, 10)\n",
    "        plt.plot(x, AF.softmax(x))\n",
    "        plt.title('Activation Function :Softmax')\n",
    "        plt.show()"
   ]
  }
 ],
 "metadata": {
  "colab": {
   "provenance": []
  },
  "kernelspec": {
   "display_name": "Python 3 (ipykernel)",
   "language": "python",
   "name": "python3"
  },
  "language_info": {
   "codemirror_mode": {
    "name": "ipython",
    "version": 3
   },
   "file_extension": ".py",
   "mimetype": "text/x-python",
   "name": "python",
   "nbconvert_exporter": "python",
   "pygments_lexer": "ipython3",
   "version": "3.11.0"
  }
 },
 "nbformat": 4,
 "nbformat_minor": 5
}
